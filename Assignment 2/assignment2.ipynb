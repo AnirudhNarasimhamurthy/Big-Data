{
 "cells": [
  {
   "cell_type": "markdown",
   "metadata": {},
   "source": [
    "##![Spark Logo](http://spark-mooc.github.io/web-assets/images/ta_Spark-logo-small.png) + ![Python Logo](http://spark-mooc.github.io/web-assets/images/python-logo-master-v3-TM-flattened_small.png)\n",
    "# **Assignment 2 - Matrices & Graphs**\n",
    "# **Matrix-Vector and Matrix-Matrix Multiplications**\n"
   ]
  },
  {
   "cell_type": "markdown",
   "metadata": {},
   "source": [
    "#### Matrix-Vector Multiplication "
   ]
  },
  {
   "cell_type": "code",
   "execution_count": 1,
   "metadata": {
    "collapsed": true
   },
   "outputs": [],
   "source": [
    "file1 = \"a_100x200.txt\"\n",
    "file2 = \"b_200x100.txt\"\n",
    "x=file2.replace(\".txt\",\"\")\n",
    "y=file1.replace(\".txt\",\"\")\n",
    "m=y.split(\"x\")[0]\n",
    "n=x.split(\"x\")[0]\n",
    "kval=x.split(\"x\")[1]\n",
    "\n",
    "isK=kval.find('K') \n",
    "#print isK\n",
    "\n",
    "if(isK> 0):\n",
    "   inter=kval.replace(\"K\",\"\")\n",
    "   p=int(inter)*1000\n",
    "else:\n",
    "   p=int(kval)\n",
    "\n",
    "print p\n",
    "mat = sc.textFile(\"ass2Data/a_100x200.txt\")\n",
    "mat2 = sc.textFile(\"ass2Data/b_200x100.txt\")\n",
    "# mat = sc.textFile(file1)\n",
    "# mat2 = sc.textFile(file2)\n",
    "matFilter = mat.map(lambda x: [float(i) for i in x.split(\" \")])\n",
    "matFilter2 = mat2.map(lambda x: [float(i) for i in x.split(\" \")])"
   ]
  },
  {
   "cell_type": "code",
   "execution_count": 2,
   "metadata": {
    "collapsed": false
   },
   "outputs": [],
   "source": [
    "matFilter = mat.map(lambda x: [float(i) for i in x.split(\" \")])"
   ]
  },
  {
   "cell_type": "code",
   "execution_count": 3,
   "metadata": {
    "collapsed": false
   },
   "outputs": [],
   "source": [
    "matgroup = matFilter.map(lambda x: (x[0], [x[2]])).reduceByKey(lambda p,q: p+q)"
   ]
  },
  {
   "cell_type": "code",
   "execution_count": 227,
   "metadata": {
    "collapsed": false
   },
   "outputs": [],
   "source": [
    "def replaceText(line):\n",
    "    line=line.replace(\"array([ \",\"\");\n",
    "    line=line.replace(\"])\",\"\");\n",
    "    return float(line);\n",
    "#vect = sc.textFile(\"x_200.txt\").map(lambda x: (1, [replaceText(x)])).reduceByKey(lambda p,q: p+q)\n",
    "vect = sc.textFile(\"ass2Data/x_200.txt\").map(lambda x: (1, [replaceText(x)])).reduceByKey(lambda p,q: p+q)"
   ]
  },
  {
   "cell_type": "code",
   "execution_count": 138,
   "metadata": {
    "collapsed": false
   },
   "outputs": [
    {
     "data": {
      "text/plain": [
       "[(0.0, 51.456960943724127), (1.0, 51.609732508318054)]"
      ]
     },
     "execution_count": 138,
     "metadata": {},
     "output_type": "execute_result"
    }
   ],
   "source": [
    "import numpy as np\n",
    "matvec = matgroup.cartesian(vect)\n",
    "matvecmul = matvec.map(lambda x: (x[0][0], np.dot(x[0][1], x[1][1])))\n",
    "matvecmul.take(2)"
   ]
  },
  {
   "cell_type": "code",
   "execution_count": 140,
   "metadata": {
    "collapsed": false
   },
   "outputs": [],
   "source": [
    "matvecmul.saveAsTextFile(\"MatrixVectorMultiplication200.txt\")"
   ]
  },
  {
   "cell_type": "markdown",
   "metadata": {},
   "source": [
    "#### Block Matrix-Matrix Multiplication "
   ]
  },
  {
   "cell_type": "code",
   "execution_count": 244,
   "metadata": {
    "collapsed": true
   },
   "outputs": [],
   "source": [
    "s = 10\n",
    "t = 20 \n",
    "v = 5"
   ]
  },
  {
   "cell_type": "code",
   "execution_count": 4,
   "metadata": {
    "collapsed": false
   },
   "outputs": [],
   "source": [
    "matgroupp = matFilter.map(lambda x: (x[0], [x[2]])).reduceByKey(lambda p,q: p+q)\n",
    "matgroup2 = matFilter2.map(lambda x: (x[1], [x[2]])).reduceByKey(lambda p,q: p+q)\n",
    "matInter = matgroupp.cartesian(matgroup2)\n",
    "matmul = matInter.map(lambda x: ((x[0][0], x[1][0]), np.dot(x[0][1], x[1][1]))).sortByKey(True)"
   ]
  },
  {
   "cell_type": "code",
   "execution_count": 232,
   "metadata": {
    "collapsed": false
   },
   "outputs": [],
   "source": [
    "matmul.saveAsTextFile(\"MatrixMatrixMultiplicationBBB100_100.txt\")"
   ]
  },
  {
   "cell_type": "markdown",
   "metadata": {},
   "source": [
    "#### Matrix-Matrix Multiplication  using One Pass"
   ]
  },
  {
   "cell_type": "code",
   "execution_count": 32,
   "metadata": {
    "collapsed": false
   },
   "outputs": [],
   "source": [
    "p = 100\n",
    "matOnePass = matFilter.flatMap(lambda x : [((x[0], k), (x)) for k in range(0, p)])\n",
    "matOnePasslist = matOnePass.map(lambda x: (x[0], [x[1][2]])).reduceByKey(lambda p,q: p+q).sortByKey(True)"
   ]
  },
  {
   "cell_type": "code",
   "execution_count": 33,
   "metadata": {
    "collapsed": false
   },
   "outputs": [],
   "source": [
    "matOnePass2 = matFilter2.flatMap(lambda x : [((k, x[1]), (x)) for k in range(0, p)])\n",
    "matOnePasslist2 = matOnePass2.map(lambda x: (x[0], [x[1][2]])).reduceByKey(lambda p,q: p+q).sortByKey(True)"
   ]
  },
  {
   "cell_type": "code",
   "execution_count": 34,
   "metadata": {
    "collapsed": false
   },
   "outputs": [],
   "source": [
    "matCartOP = matOnePasslist.join(matOnePasslist2).sortByKey(True)"
   ]
  },
  {
   "cell_type": "code",
   "execution_count": 36,
   "metadata": {
    "collapsed": false
   },
   "outputs": [],
   "source": [
    "matmul = matCartOP.map(lambda x: (x[0], np.dot(x[1][0], x[1][1]))).sortByKey(True)"
   ]
  },
  {
   "cell_type": "code",
   "execution_count": 38,
   "metadata": {
    "collapsed": false
   },
   "outputs": [],
   "source": [
    "matmul.saveAsTextFile(\"MatrixMatrixMultiplicationOnePass100_100.txt\")"
   ]
  },
  {
   "cell_type": "markdown",
   "metadata": {},
   "source": [
    "#### Another method of Block Matrix Multiplication"
   ]
  },
  {
   "cell_type": "code",
   "execution_count": 159,
   "metadata": {
    "collapsed": false,
    "scrolled": true
   },
   "outputs": [],
   "source": [
    "s = 10\n",
    "t = 20\n",
    "v = 5\n",
    "matBlocks = matFilter.flatMap(lambda x : [((int(x[0]/s), int(x[1]/t), k), (int(x[0]%s), int(x[1]%t), x[2])) for k in range(0, p/v)])"
   ]
  },
  {
   "cell_type": "code",
   "execution_count": 160,
   "metadata": {
    "collapsed": false
   },
   "outputs": [],
   "source": [
    "matBlocks2 = matFilter2.flatMap(lambda x : [((k, int(x[0]/t), int(x[1]/v)), (int(x[0]%t), int(x[1]%v), x[2])) for k in range(0, m/s)])"
   ]
  },
  {
   "cell_type": "code",
   "execution_count": 103,
   "metadata": {
    "collapsed": true
   },
   "outputs": [],
   "source": [
    "matOnePassBlock = matBlocks.map(lambda x: (x[0], [x[1]])).reduceByKey(lambda p,q: p+q).sortByKey(True)\n",
    "matOnePassBlock2 =  matBlocks2.map(lambda x: (x[0], [x[1]])).reduceByKey(lambda p,q: p+q).sortByKey(True)"
   ]
  },
  {
   "cell_type": "code",
   "execution_count": 106,
   "metadata": {
    "collapsed": true
   },
   "outputs": [],
   "source": [
    "matBlockCartOP = matOnePassBlock.join(matOnePassBlock2).sortByKey(True)"
   ]
  },
  {
   "cell_type": "code",
   "execution_count": 124,
   "metadata": {
    "collapsed": true
   },
   "outputs": [],
   "source": [
    "def multiply(x):\n",
    "    listA = x[1][0]\n",
    "    listB = x[1][1]\n",
    "    fDict = {}\n",
    "    for a in listA:\n",
    "        for b in listB:\n",
    "            print a, b\n",
    "            if a[1] == b[0]:\n",
    "                fDict[(a[0], b[1])] = fDict.get((a[0], b[1]),0)+a[2]*b[2]\n",
    "    print fDict\n",
    "    finalList = []\n",
    "    for key, value in fDict.iteritems():\n",
    "        finalList.append(((x[0][0]*s + key[0], x[0][2]*v + key[1]), value))\n",
    "    return finalList"
   ]
  },
  {
   "cell_type": "code",
   "execution_count": 152,
   "metadata": {
    "collapsed": true
   },
   "outputs": [],
   "source": [
    "matBlockMul = matBlockCartOP.flatMap(multiply)"
   ]
  },
  {
   "cell_type": "code",
   "execution_count": 153,
   "metadata": {
    "collapsed": true
   },
   "outputs": [],
   "source": [
    "def secondPass(values):\n",
    "    result = 0\n",
    "    for value in values:\n",
    "        result += value\n",
    "    return result    "
   ]
  },
  {
   "cell_type": "code",
   "execution_count": 156,
   "metadata": {
    "collapsed": false
   },
   "outputs": [],
   "source": [
    "matSecPass = matBlockMul.map(lambda x: (x[0], [x[1]])).reduceByKey(lambda p,q: p+q).sortByKey(True)\n",
    "matFinalRes = matSecPass.map(lambda x: (x[0], secondPass(x[1]))).sortByKey(True)"
   ]
  },
  {
   "cell_type": "code",
   "execution_count": 141,
   "metadata": {
    "collapsed": false
   },
   "outputs": [],
   "source": [
    "# matBlockMul.saveAsTextFile(\"MatrixMatrixMultiplicationBlock100_100.txt\")"
   ]
  },
  {
   "cell_type": "code",
   "execution_count": 158,
   "metadata": {
    "collapsed": false
   },
   "outputs": [
    {
     "data": {
      "text/plain": [
       "[((0, 0), 90.0),\n",
       " ((0, 1), 100.0),\n",
       " ((0, 2), 110.0),\n",
       " ((1, 0), 240.0),\n",
       " ((1, 1), 275.0),\n",
       " ((1, 2), 310.0)]"
      ]
     },
     "execution_count": 158,
     "metadata": {},
     "output_type": "execute_result"
    }
   ],
   "source": [
    "matFinalRes.collect()"
   ]
  },
  {
   "cell_type": "markdown",
   "metadata": {},
   "source": [
    "# Shallow Graphs"
   ]
  },
  {
   "cell_type": "code",
   "execution_count": 1,
   "metadata": {
    "collapsed": true
   },
   "outputs": [],
   "source": [
    "sgMat = sc.textFile(\"ass2Data/Assign2_200.txt\")\n",
    "sgMatFilter = sgMat.map(lambda x: [int(i) for i in x.split(\" \")])"
   ]
  },
  {
   "cell_type": "code",
   "execution_count": 2,
   "metadata": {
    "collapsed": false
   },
   "outputs": [],
   "source": [
    "# intData = sgMatFilter.map(lambda x: [x[1], x[0], x[2]])\n",
    "# sgMatFilter = sgMatFilter.union(intData)"
   ]
  },
  {
   "cell_type": "code",
   "execution_count": 4,
   "metadata": {
    "collapsed": false
   },
   "outputs": [],
   "source": [
    "sgFinal = sgMatFilter.map(lambda x: (x[0], {x[1]:x[2]}))\\\n",
    "                     .map(lambda x: (x[0], [x[1]]))\\\n",
    "                     .reduceByKey(lambda p,q: p+q)\\\n",
    "                     .sortByKey(True)"
   ]
  },
  {
   "cell_type": "code",
   "execution_count": 5,
   "metadata": {
    "collapsed": true
   },
   "outputs": [],
   "source": [
    "sgFinal2 = sgMatFilter.map(lambda x: (x[1], {x[0]: x[2]}))\\\n",
    "                      .map(lambda x: (x[0], [x[1]]))\\\n",
    "                      .reduceByKey(lambda p,q: p+q)\\\n",
    "                      .sortByKey(True) "
   ]
  },
  {
   "cell_type": "code",
   "execution_count": 6,
   "metadata": {
    "collapsed": true
   },
   "outputs": [],
   "source": [
    "def comparator(list1, list2):\n",
    "    sum = 0\n",
    "    for x in list1:\n",
    "        if x in list2:\n",
    "            sum += 1\n",
    "    return sum"
   ]
  },
  {
   "cell_type": "code",
   "execution_count": 7,
   "metadata": {
    "collapsed": true
   },
   "outputs": [],
   "source": [
    "sgJoined = sgFinal.cartesian(sgFinal2)"
   ]
  },
  {
   "cell_type": "code",
   "execution_count": 8,
   "metadata": {
    "collapsed": true
   },
   "outputs": [],
   "source": [
    "sgFinalMat = sgJoined.map(lambda x: ((x[0][0], x[1][0]), comparator(x[0][1], x[1][1])))"
   ]
  },
  {
   "cell_type": "code",
   "execution_count": 9,
   "metadata": {
    "collapsed": false
   },
   "outputs": [],
   "source": [
    "addData = sgFinalMat.filter(lambda x: x[1] != 0)"
   ]
  },
  {
   "cell_type": "code",
   "execution_count": 10,
   "metadata": {
    "collapsed": true
   },
   "outputs": [],
   "source": [
    "A = sgMatFilter.map(lambda x: ((x[0], x[1]), x[2]))"
   ]
  },
  {
   "cell_type": "code",
   "execution_count": 11,
   "metadata": {
    "collapsed": true
   },
   "outputs": [],
   "source": [
    "aSqrPlusA = addData.union(A)\\\n",
    "                   .map(lambda x: (x[0], x[1]))\\\n",
    "                   .reduceByKey(lambda p,q: p+q)\\\n",
    "                   .sortByKey(True)"
   ]
  },
  {
   "cell_type": "code",
   "execution_count": 12,
   "metadata": {
    "collapsed": false
   },
   "outputs": [
    {
     "data": {
      "text/plain": [
       "1000000"
      ]
     },
     "execution_count": 12,
     "metadata": {},
     "output_type": "execute_result"
    }
   ],
   "source": [
    "aSqrPlusA.count()"
   ]
  },
  {
   "cell_type": "code",
   "execution_count": 452,
   "metadata": {
    "collapsed": false
   },
   "outputs": [
    {
     "name": "stdout",
     "output_type": "stream",
     "text": [
      "not Shallow\n"
     ]
    },
    {
     "data": {
      "text/plain": [
       "10000"
      ]
     },
     "execution_count": 452,
     "metadata": {},
     "output_type": "execute_result"
    }
   ],
   "source": [
    "if aSqrPlusA.count() != 10000:\n",
    "    print \"not Shallow\"\n",
    "else:\n",
    "    print \"Shallow\"\n",
    "aSqrPlusA.count()"
   ]
  },
  {
   "cell_type": "code",
   "execution_count": 295,
   "metadata": {
    "collapsed": false,
    "scrolled": true
   },
   "outputs": [],
   "source": [
    "# def addition(tup):\n",
    "#     if tup[0] in addData:\n",
    "#         return 1\n",
    "#     else:\n",
    "#         return tup[1]\n",
    "# finalResult = sgFinalMat.map(lambda x: (x[0], addition(x)))"
   ]
  },
  {
   "cell_type": "code",
   "execution_count": 503,
   "metadata": {
    "collapsed": false
   },
   "outputs": [
    {
     "data": {
      "text/plain": [
       "[((0, 0), 0),\n",
       " ((0, 1), 0),\n",
       " ((0, 2), 0),\n",
       " ((0, 3), 0),\n",
       " ((0, 4), 0),\n",
       " ((1, 0), 0),\n",
       " ((1, 1), 0),\n",
       " ((1, 2), 0),\n",
       " ((1, 3), 0),\n",
       " ((1, 4), 0)]"
      ]
     },
     "execution_count": 503,
     "metadata": {},
     "output_type": "execute_result"
    }
   ],
   "source": [
    "# sgMat = sc.textFile(\"ass2Data/assign2_5_1.txt\")\n",
    "# sgMatFilter = sgMat.map(lambda x: [int(i) for i in x.split(\" \")])\n",
    "# # intData = sgMatFilter.map(lambda x: [x[1], x[0], x[2]])\n",
    "# # sgMatFilter = sgMatFilter.union(intData)\n",
    "# liste = [range(0,5), range(0, 5)]\n",
    "# finalList = []\n",
    "# import itertools\n",
    "# for element in itertools.product(*liste):\n",
    "#     finalList.append((element, 0))\n",
    "# finalList[:10]"
   ]
  },
  {
   "cell_type": "code",
   "execution_count": 504,
   "metadata": {
    "collapsed": false
   },
   "outputs": [
    {
     "data": {
      "text/plain": [
       "[((0, 0), 0),\n",
       " ((0, 1), 1),\n",
       " ((0, 2), 1),\n",
       " ((0, 3), 1),\n",
       " ((0, 4), 1),\n",
       " ((1, 0), 0),\n",
       " ((1, 1), 0),\n",
       " ((1, 2), 1),\n",
       " ((1, 3), 1),\n",
       " ((1, 4), 1)]"
      ]
     },
     "execution_count": 504,
     "metadata": {},
     "output_type": "execute_result"
    }
   ],
   "source": [
    "# wholeRDD = sc.parallelize(finalList)\n",
    "# sgMatTupFilter = sgMatFilter.map(lambda x: ((x[0], x[1]), x[2]))\n",
    "# matrixA = sgMatTupFilter.union(wholeRDD)\\\n",
    "#                       .map(lambda x: (x[0], x[1]))\\\n",
    "#                       .reduceByKey(lambda p,q: p+q)\\\n",
    "#                       .sortByKey(True)\n",
    "# matrixA.take(10)"
   ]
  },
  {
   "cell_type": "code",
   "execution_count": 505,
   "metadata": {
    "collapsed": false
   },
   "outputs": [],
   "source": [
    "# sgMat = matrixA.map(lambda x: (x[0][0], [x[1]])).reduceByKey(lambda p,q: p+q)\n",
    "# sgMat2 = matrixA.map(lambda x: (x[0][1], [x[1]])).reduceByKey(lambda p,q: p+q)\n",
    "# matInter = sgMat.cartesian(sgMat2)\n",
    "# matmul = matInter.map(lambda x: ((x[0][0], x[1][0]), np.dot(x[0][1], x[1][1]))).sortByKey(True)"
   ]
  },
  {
   "cell_type": "code",
   "execution_count": 507,
   "metadata": {
    "collapsed": true
   },
   "outputs": [
    {
     "data": {
      "text/plain": [
       "[((0, 0), 0),\n",
       " ((0, 1), 0),\n",
       " ((0, 2), 1),\n",
       " ((0, 3), 2),\n",
       " ((0, 4), 1),\n",
       " ((1, 0), 0),\n",
       " ((1, 1), 0),\n",
       " ((1, 2), 0),\n",
       " ((1, 3), 1),\n",
       " ((1, 4), 0),\n",
       " ((2, 0), 0),\n",
       " ((2, 1), 0),\n",
       " ((2, 2), 0),\n",
       " ((2, 3), 0),\n",
       " ((2, 4), 0),\n",
       " ((3, 0), 0),\n",
       " ((3, 1), 0),\n",
       " ((3, 2), 0),\n",
       " ((3, 3), 0),\n",
       " ((3, 4), 0),\n",
       " ((4, 0), 0),\n",
       " ((4, 1), 0),\n",
       " ((4, 2), 0),\n",
       " ((4, 3), 0),\n",
       " ((4, 4), 0)]"
      ]
     },
     "execution_count": 507,
     "metadata": {},
     "output_type": "execute_result"
    }
   ],
   "source": [
    "# addData = matmul.filter(lambda x: x[1] != 0)\n",
    "# addData.count()\n",
    "# matmul.collect()"
   ]
  },
  {
   "cell_type": "code",
   "execution_count": null,
   "metadata": {
    "collapsed": true
   },
   "outputs": [],
   "source": []
  }
 ],
 "metadata": {
  "kernelspec": {
   "display_name": "Python 2",
   "language": "python",
   "name": "python2"
  },
  "language_info": {
   "codemirror_mode": {
    "name": "ipython",
    "version": 2
   },
   "file_extension": ".py",
   "mimetype": "text/x-python",
   "name": "python",
   "nbconvert_exporter": "python",
   "pygments_lexer": "ipython2",
   "version": "2.7.6"
  }
 },
 "nbformat": 4,
 "nbformat_minor": 0
}
